{
 "cells": [
  {
   "cell_type": "markdown",
   "metadata": {},
   "source": [
    "# Data-Science Case Study – Multi-classification "
   ]
  },
  {
   "cell_type": "code",
   "execution_count": 1,
   "metadata": {},
   "outputs": [],
   "source": [
    "import pandas as pd\n",
    "import numpy as np"
   ]
  },
  {
   "cell_type": "code",
   "execution_count": 2,
   "metadata": {},
   "outputs": [],
   "source": [
    "X = pd.read_csv(\"train.csv\")\n",
    "test = pd.read_csv(\"test.csv\")"
   ]
  },
  {
   "cell_type": "code",
   "execution_count": 3,
   "metadata": {
    "scrolled": true
   },
   "outputs": [
    {
     "data": {
      "text/html": [
       "<div>\n",
       "<style scoped>\n",
       "    .dataframe tbody tr th:only-of-type {\n",
       "        vertical-align: middle;\n",
       "    }\n",
       "\n",
       "    .dataframe tbody tr th {\n",
       "        vertical-align: top;\n",
       "    }\n",
       "\n",
       "    .dataframe thead th {\n",
       "        text-align: right;\n",
       "    }\n",
       "</style>\n",
       "<table border=\"1\" class=\"dataframe\">\n",
       "  <thead>\n",
       "    <tr style=\"text-align: right;\">\n",
       "      <th></th>\n",
       "      <th>id</th>\n",
       "      <th>AP</th>\n",
       "      <th>creation_date_answer</th>\n",
       "      <th>situation</th>\n",
       "      <th>ctc</th>\n",
       "      <th>location</th>\n",
       "      <th>gc_id</th>\n",
       "      <th>gc_label</th>\n",
       "      <th>creation_date_global</th>\n",
       "      <th>id_group</th>\n",
       "      <th>...</th>\n",
       "      <th>fruits_or_vegetables</th>\n",
       "      <th>number_of_fruit</th>\n",
       "      <th>id_group_3</th>\n",
       "      <th>creation_date_request</th>\n",
       "      <th>hobby</th>\n",
       "      <th>id_group_4</th>\n",
       "      <th>ville</th>\n",
       "      <th>green_vegetables</th>\n",
       "      <th>vegetable_type</th>\n",
       "      <th>target</th>\n",
       "    </tr>\n",
       "  </thead>\n",
       "  <tbody>\n",
       "    <tr>\n",
       "      <th>0</th>\n",
       "      <td>a46cfa61ea20a</td>\n",
       "      <td>f</td>\n",
       "      <td>2019-03-13 11:14:42.549</td>\n",
       "      <td>-1</td>\n",
       "      <td>NaN</td>\n",
       "      <td>52</td>\n",
       "      <td>70</td>\n",
       "      <td>G</td>\n",
       "      <td>2019-01-17 10:50:57.767</td>\n",
       "      <td>2d7e206d46ea1</td>\n",
       "      <td>...</td>\n",
       "      <td>NaN</td>\n",
       "      <td>-1</td>\n",
       "      <td>812a43d710ace</td>\n",
       "      <td>2019-03-13 11:14:42.549</td>\n",
       "      <td>football</td>\n",
       "      <td>aa8f4934a31eb</td>\n",
       "      <td>NaN</td>\n",
       "      <td>f</td>\n",
       "      <td>NaN</td>\n",
       "      <td>0</td>\n",
       "    </tr>\n",
       "    <tr>\n",
       "      <th>1</th>\n",
       "      <td>c3d0cb8f0c5e2</td>\n",
       "      <td>f</td>\n",
       "      <td>2019-03-21 14:27:32.441</td>\n",
       "      <td>-1</td>\n",
       "      <td>NaN</td>\n",
       "      <td>78</td>\n",
       "      <td>10</td>\n",
       "      <td>A</td>\n",
       "      <td>2018-08-20 05:57:51.038</td>\n",
       "      <td>35e96d6848871</td>\n",
       "      <td>...</td>\n",
       "      <td>NaN</td>\n",
       "      <td>-1</td>\n",
       "      <td>4b59257f24573</td>\n",
       "      <td>2019-03-21 14:27:32.441</td>\n",
       "      <td>football</td>\n",
       "      <td>6ff9ea9ec85fd</td>\n",
       "      <td>NaN</td>\n",
       "      <td>f</td>\n",
       "      <td>NaN</td>\n",
       "      <td>1</td>\n",
       "    </tr>\n",
       "    <tr>\n",
       "      <th>2</th>\n",
       "      <td>05dfbe0ec3a8b</td>\n",
       "      <td>f</td>\n",
       "      <td>2019-03-15 17:49:50.67</td>\n",
       "      <td>-1</td>\n",
       "      <td>NaN</td>\n",
       "      <td>70</td>\n",
       "      <td>10</td>\n",
       "      <td>A</td>\n",
       "      <td>2018-12-20 13:45:51.752</td>\n",
       "      <td>ffaf8085e383d</td>\n",
       "      <td>...</td>\n",
       "      <td>NaN</td>\n",
       "      <td>-1</td>\n",
       "      <td>f1a838f0d194b</td>\n",
       "      <td>2019-03-15 17:49:50.67</td>\n",
       "      <td>football</td>\n",
       "      <td>6a49a0a97b049</td>\n",
       "      <td>NaN</td>\n",
       "      <td>f</td>\n",
       "      <td>NaN</td>\n",
       "      <td>0</td>\n",
       "    </tr>\n",
       "    <tr>\n",
       "      <th>3</th>\n",
       "      <td>952e869ee1076</td>\n",
       "      <td>f</td>\n",
       "      <td>2019-01-07 08:19:29.114</td>\n",
       "      <td>-1</td>\n",
       "      <td>f</td>\n",
       "      <td>84</td>\n",
       "      <td>10</td>\n",
       "      <td>A</td>\n",
       "      <td>2018-07-21 10:28:49.386</td>\n",
       "      <td>5360cf0a40ce3</td>\n",
       "      <td>...</td>\n",
       "      <td>NaN</td>\n",
       "      <td>0</td>\n",
       "      <td>c3196847d1c14</td>\n",
       "      <td>2019-01-07 08:19:29.114</td>\n",
       "      <td>football</td>\n",
       "      <td>d0dcf1ca1bf04</td>\n",
       "      <td>NaN</td>\n",
       "      <td>f</td>\n",
       "      <td>NaN</td>\n",
       "      <td>1</td>\n",
       "    </tr>\n",
       "    <tr>\n",
       "      <th>4</th>\n",
       "      <td>5bd0e71b1395b</td>\n",
       "      <td>f</td>\n",
       "      <td>2019-02-03 17:57:22.926</td>\n",
       "      <td>-1</td>\n",
       "      <td>NaN</td>\n",
       "      <td>29</td>\n",
       "      <td>20</td>\n",
       "      <td>D</td>\n",
       "      <td>2018-12-07 19:59:26.968</td>\n",
       "      <td>126c3211f23fc</td>\n",
       "      <td>...</td>\n",
       "      <td>NaN</td>\n",
       "      <td>-1</td>\n",
       "      <td>70e18c6fe58cd</td>\n",
       "      <td>2019-02-03 17:57:22.926</td>\n",
       "      <td>football</td>\n",
       "      <td>b4870b1c8eb42</td>\n",
       "      <td>NaN</td>\n",
       "      <td>f</td>\n",
       "      <td>NaN</td>\n",
       "      <td>1</td>\n",
       "    </tr>\n",
       "  </tbody>\n",
       "</table>\n",
       "<p>5 rows × 24 columns</p>\n",
       "</div>"
      ],
      "text/plain": [
       "              id AP     creation_date_answer  situation  ctc  location  gc_id  \\\n",
       "0  a46cfa61ea20a  f  2019-03-13 11:14:42.549         -1  NaN        52     70   \n",
       "1  c3d0cb8f0c5e2  f  2019-03-21 14:27:32.441         -1  NaN        78     10   \n",
       "2  05dfbe0ec3a8b  f   2019-03-15 17:49:50.67         -1  NaN        70     10   \n",
       "3  952e869ee1076  f  2019-01-07 08:19:29.114         -1    f        84     10   \n",
       "4  5bd0e71b1395b  f  2019-02-03 17:57:22.926         -1  NaN        29     20   \n",
       "\n",
       "  gc_label     creation_date_global       id_group  ... fruits_or_vegetables  \\\n",
       "0        G  2019-01-17 10:50:57.767  2d7e206d46ea1  ...                  NaN   \n",
       "1        A  2018-08-20 05:57:51.038  35e96d6848871  ...                  NaN   \n",
       "2        A  2018-12-20 13:45:51.752  ffaf8085e383d  ...                  NaN   \n",
       "3        A  2018-07-21 10:28:49.386  5360cf0a40ce3  ...                  NaN   \n",
       "4        D  2018-12-07 19:59:26.968  126c3211f23fc  ...                  NaN   \n",
       "\n",
       "  number_of_fruit     id_group_3    creation_date_request     hobby  \\\n",
       "0              -1  812a43d710ace  2019-03-13 11:14:42.549  football   \n",
       "1              -1  4b59257f24573  2019-03-21 14:27:32.441  football   \n",
       "2              -1  f1a838f0d194b   2019-03-15 17:49:50.67  football   \n",
       "3               0  c3196847d1c14  2019-01-07 08:19:29.114  football   \n",
       "4              -1  70e18c6fe58cd  2019-02-03 17:57:22.926  football   \n",
       "\n",
       "      id_group_4 ville green_vegetables vegetable_type target  \n",
       "0  aa8f4934a31eb   NaN                f            NaN      0  \n",
       "1  6ff9ea9ec85fd   NaN                f            NaN      1  \n",
       "2  6a49a0a97b049   NaN                f            NaN      0  \n",
       "3  d0dcf1ca1bf04   NaN                f            NaN      1  \n",
       "4  b4870b1c8eb42   NaN                f            NaN      1  \n",
       "\n",
       "[5 rows x 24 columns]"
      ]
     },
     "execution_count": 3,
     "metadata": {},
     "output_type": "execute_result"
    }
   ],
   "source": [
    "X.head()"
   ]
  },
  {
   "cell_type": "code",
   "execution_count": 4,
   "metadata": {},
   "outputs": [
    {
     "data": {
      "text/html": [
       "<div>\n",
       "<style scoped>\n",
       "    .dataframe tbody tr th:only-of-type {\n",
       "        vertical-align: middle;\n",
       "    }\n",
       "\n",
       "    .dataframe tbody tr th {\n",
       "        vertical-align: top;\n",
       "    }\n",
       "\n",
       "    .dataframe thead th {\n",
       "        text-align: right;\n",
       "    }\n",
       "</style>\n",
       "<table border=\"1\" class=\"dataframe\">\n",
       "  <thead>\n",
       "    <tr style=\"text-align: right;\">\n",
       "      <th></th>\n",
       "      <th>id</th>\n",
       "      <th>AP</th>\n",
       "      <th>creation_date_answer</th>\n",
       "      <th>situation</th>\n",
       "      <th>ctc</th>\n",
       "      <th>location</th>\n",
       "      <th>gc_id</th>\n",
       "      <th>gc_label</th>\n",
       "      <th>creation_date_global</th>\n",
       "      <th>id_group</th>\n",
       "      <th>...</th>\n",
       "      <th>fruit_situation_label</th>\n",
       "      <th>fruits_or_vegetables</th>\n",
       "      <th>number_of_fruit</th>\n",
       "      <th>id_group_3</th>\n",
       "      <th>creation_date_request</th>\n",
       "      <th>hobby</th>\n",
       "      <th>id_group_4</th>\n",
       "      <th>ville</th>\n",
       "      <th>green_vegetables</th>\n",
       "      <th>vegetable_type</th>\n",
       "    </tr>\n",
       "  </thead>\n",
       "  <tbody>\n",
       "    <tr>\n",
       "      <th>0</th>\n",
       "      <td>cb7a4e0dd0777</td>\n",
       "      <td>f</td>\n",
       "      <td>2019-03-13 07:00:52.562</td>\n",
       "      <td>30</td>\n",
       "      <td>NaN</td>\n",
       "      <td>100</td>\n",
       "      <td>40</td>\n",
       "      <td>B</td>\n",
       "      <td>2019-03-13 07:03:13.632</td>\n",
       "      <td>b6a3d931cbbaf</td>\n",
       "      <td>...</td>\n",
       "      <td>jzy</td>\n",
       "      <td>t</td>\n",
       "      <td>1</td>\n",
       "      <td>bc3a12cac647f</td>\n",
       "      <td>2019-03-13 07:00:52.562</td>\n",
       "      <td>football</td>\n",
       "      <td>b78bd3c9f945c</td>\n",
       "      <td>Saint-Leu</td>\n",
       "      <td>f</td>\n",
       "      <td>NaN</td>\n",
       "    </tr>\n",
       "    <tr>\n",
       "      <th>1</th>\n",
       "      <td>e78e3915f3e30</td>\n",
       "      <td>f</td>\n",
       "      <td>2019-01-07 13:45:55.741</td>\n",
       "      <td>-1</td>\n",
       "      <td>f</td>\n",
       "      <td>95</td>\n",
       "      <td>40</td>\n",
       "      <td>B</td>\n",
       "      <td>2018-12-18 18:28:41.942</td>\n",
       "      <td>1b35749232404</td>\n",
       "      <td>...</td>\n",
       "      <td>hetz</td>\n",
       "      <td>t</td>\n",
       "      <td>1</td>\n",
       "      <td>79aa2c96bd0fc</td>\n",
       "      <td>2019-01-07 13:45:55.741</td>\n",
       "      <td>football</td>\n",
       "      <td>6fed1653be26d</td>\n",
       "      <td>Créteil</td>\n",
       "      <td>f</td>\n",
       "      <td>NaN</td>\n",
       "    </tr>\n",
       "    <tr>\n",
       "      <th>2</th>\n",
       "      <td>8e65ba155f983</td>\n",
       "      <td>f</td>\n",
       "      <td>2019-01-25 14:01:07.041</td>\n",
       "      <td>-1</td>\n",
       "      <td>f</td>\n",
       "      <td>34</td>\n",
       "      <td>20</td>\n",
       "      <td>D</td>\n",
       "      <td>2018-01-17 13:12:05.124</td>\n",
       "      <td>8f7612ff2c9cc</td>\n",
       "      <td>...</td>\n",
       "      <td>ag</td>\n",
       "      <td>NaN</td>\n",
       "      <td>-1</td>\n",
       "      <td>4b634a698cc8e</td>\n",
       "      <td>2019-01-25 14:01:07.041</td>\n",
       "      <td>football</td>\n",
       "      <td>fb7b5da2ef839</td>\n",
       "      <td>Bordeaux</td>\n",
       "      <td>f</td>\n",
       "      <td>NaN</td>\n",
       "    </tr>\n",
       "    <tr>\n",
       "      <th>3</th>\n",
       "      <td>701e90ca03ce2</td>\n",
       "      <td>f</td>\n",
       "      <td>2019-01-16 14:35:11.432</td>\n",
       "      <td>10</td>\n",
       "      <td>f</td>\n",
       "      <td>45</td>\n",
       "      <td>40</td>\n",
       "      <td>B</td>\n",
       "      <td>2018-11-07 13:21:33.877</td>\n",
       "      <td>2e3620e03b5f3</td>\n",
       "      <td>...</td>\n",
       "      <td>ag</td>\n",
       "      <td>NaN</td>\n",
       "      <td>2</td>\n",
       "      <td>cccd30d947857</td>\n",
       "      <td>2019-01-16 14:35:11.432</td>\n",
       "      <td>football</td>\n",
       "      <td>3a230e52fb02e</td>\n",
       "      <td>Saint-Herblain</td>\n",
       "      <td>f</td>\n",
       "      <td>NaN</td>\n",
       "    </tr>\n",
       "    <tr>\n",
       "      <th>4</th>\n",
       "      <td>768fefec8609a</td>\n",
       "      <td>f</td>\n",
       "      <td>2019-02-11 14:25:37.331</td>\n",
       "      <td>10</td>\n",
       "      <td>f</td>\n",
       "      <td>95</td>\n",
       "      <td>100</td>\n",
       "      <td>H</td>\n",
       "      <td>2018-10-16 10:17:01.716</td>\n",
       "      <td>ac19c1e8abd0d</td>\n",
       "      <td>...</td>\n",
       "      <td>hetz</td>\n",
       "      <td>f</td>\n",
       "      <td>2</td>\n",
       "      <td>62769fb7addda</td>\n",
       "      <td>2019-02-11 14:25:37.331</td>\n",
       "      <td>football</td>\n",
       "      <td>94c376f28ea60</td>\n",
       "      <td>Drancy</td>\n",
       "      <td>f</td>\n",
       "      <td>NaN</td>\n",
       "    </tr>\n",
       "    <tr>\n",
       "      <th>...</th>\n",
       "      <td>...</td>\n",
       "      <td>...</td>\n",
       "      <td>...</td>\n",
       "      <td>...</td>\n",
       "      <td>...</td>\n",
       "      <td>...</td>\n",
       "      <td>...</td>\n",
       "      <td>...</td>\n",
       "      <td>...</td>\n",
       "      <td>...</td>\n",
       "      <td>...</td>\n",
       "      <td>...</td>\n",
       "      <td>...</td>\n",
       "      <td>...</td>\n",
       "      <td>...</td>\n",
       "      <td>...</td>\n",
       "      <td>...</td>\n",
       "      <td>...</td>\n",
       "      <td>...</td>\n",
       "      <td>...</td>\n",
       "      <td>...</td>\n",
       "    </tr>\n",
       "    <tr>\n",
       "      <th>24995</th>\n",
       "      <td>3232bad9c00cc</td>\n",
       "      <td>f</td>\n",
       "      <td>2019-02-11 09:06:49.715</td>\n",
       "      <td>-1</td>\n",
       "      <td>f</td>\n",
       "      <td>60</td>\n",
       "      <td>10</td>\n",
       "      <td>A</td>\n",
       "      <td>2019-02-08 15:55:22.838</td>\n",
       "      <td>95a56d824dd8e</td>\n",
       "      <td>...</td>\n",
       "      <td>ag</td>\n",
       "      <td>f</td>\n",
       "      <td>0</td>\n",
       "      <td>62f3ff83bc692</td>\n",
       "      <td>2019-02-11 09:06:49.715</td>\n",
       "      <td>football</td>\n",
       "      <td>cfdfc4bae9d99</td>\n",
       "      <td>NaN</td>\n",
       "      <td>f</td>\n",
       "      <td>NaN</td>\n",
       "    </tr>\n",
       "    <tr>\n",
       "      <th>24996</th>\n",
       "      <td>7b178c38ad263</td>\n",
       "      <td>f</td>\n",
       "      <td>2019-01-23 09:56:24.209</td>\n",
       "      <td>-1</td>\n",
       "      <td>f</td>\n",
       "      <td>45</td>\n",
       "      <td>10</td>\n",
       "      <td>A</td>\n",
       "      <td>2018-12-18 11:07:20.750</td>\n",
       "      <td>0a862475e1701</td>\n",
       "      <td>...</td>\n",
       "      <td>ag</td>\n",
       "      <td>f</td>\n",
       "      <td>-1</td>\n",
       "      <td>cccd30d947857</td>\n",
       "      <td>2019-01-23 09:56:24.209</td>\n",
       "      <td>football</td>\n",
       "      <td>f3c523cde1292</td>\n",
       "      <td>Nantes</td>\n",
       "      <td>f</td>\n",
       "      <td>NaN</td>\n",
       "    </tr>\n",
       "    <tr>\n",
       "      <th>24997</th>\n",
       "      <td>5876ad905d4b4</td>\n",
       "      <td>f</td>\n",
       "      <td>2019-03-10 07:23:42.048</td>\n",
       "      <td>-1</td>\n",
       "      <td>NaN</td>\n",
       "      <td>58</td>\n",
       "      <td>10</td>\n",
       "      <td>A</td>\n",
       "      <td>2019-02-27 11:22:12.462</td>\n",
       "      <td>02d8284246fca</td>\n",
       "      <td>...</td>\n",
       "      <td>ae</td>\n",
       "      <td>NaN</td>\n",
       "      <td>-1</td>\n",
       "      <td>fa2eb9a81317a</td>\n",
       "      <td>2019-03-10 07:23:42.048</td>\n",
       "      <td>football</td>\n",
       "      <td>c2ac6810f81b5</td>\n",
       "      <td>NaN</td>\n",
       "      <td>f</td>\n",
       "      <td>NaN</td>\n",
       "    </tr>\n",
       "    <tr>\n",
       "      <th>24998</th>\n",
       "      <td>5921ef2921c68</td>\n",
       "      <td>f</td>\n",
       "      <td>2019-02-27 16:28:57.107</td>\n",
       "      <td>-1</td>\n",
       "      <td>NaN</td>\n",
       "      <td>60</td>\n",
       "      <td>20</td>\n",
       "      <td>D</td>\n",
       "      <td>2018-08-09 08:23:06.305</td>\n",
       "      <td>68fb52f788708</td>\n",
       "      <td>...</td>\n",
       "      <td>ag</td>\n",
       "      <td>NaN</td>\n",
       "      <td>-1</td>\n",
       "      <td>eefd8c1c28728</td>\n",
       "      <td>2019-02-27 16:28:57.107</td>\n",
       "      <td>football</td>\n",
       "      <td>aeaa1f918497c</td>\n",
       "      <td>NaN</td>\n",
       "      <td>t</td>\n",
       "      <td>green</td>\n",
       "    </tr>\n",
       "    <tr>\n",
       "      <th>24999</th>\n",
       "      <td>d4152ad641c9f</td>\n",
       "      <td>f</td>\n",
       "      <td>2019-01-01 07:07:32.042</td>\n",
       "      <td>-1</td>\n",
       "      <td>f</td>\n",
       "      <td>13</td>\n",
       "      <td>20</td>\n",
       "      <td>D</td>\n",
       "      <td>2018-10-31 07:58:50.240</td>\n",
       "      <td>74cf9d7a70893</td>\n",
       "      <td>...</td>\n",
       "      <td>ag</td>\n",
       "      <td>f</td>\n",
       "      <td>0</td>\n",
       "      <td>39fb2ab20dda9</td>\n",
       "      <td>2019-01-01 07:07:32.042</td>\n",
       "      <td>football</td>\n",
       "      <td>beb82cec9ed17</td>\n",
       "      <td>NaN</td>\n",
       "      <td>f</td>\n",
       "      <td>NaN</td>\n",
       "    </tr>\n",
       "  </tbody>\n",
       "</table>\n",
       "<p>25000 rows × 23 columns</p>\n",
       "</div>"
      ],
      "text/plain": [
       "                  id AP     creation_date_answer  situation  ctc  location  \\\n",
       "0      cb7a4e0dd0777  f  2019-03-13 07:00:52.562         30  NaN       100   \n",
       "1      e78e3915f3e30  f  2019-01-07 13:45:55.741         -1    f        95   \n",
       "2      8e65ba155f983  f  2019-01-25 14:01:07.041         -1    f        34   \n",
       "3      701e90ca03ce2  f  2019-01-16 14:35:11.432         10    f        45   \n",
       "4      768fefec8609a  f  2019-02-11 14:25:37.331         10    f        95   \n",
       "...              ... ..                      ...        ...  ...       ...   \n",
       "24995  3232bad9c00cc  f  2019-02-11 09:06:49.715         -1    f        60   \n",
       "24996  7b178c38ad263  f  2019-01-23 09:56:24.209         -1    f        45   \n",
       "24997  5876ad905d4b4  f  2019-03-10 07:23:42.048         -1  NaN        58   \n",
       "24998  5921ef2921c68  f  2019-02-27 16:28:57.107         -1  NaN        60   \n",
       "24999  d4152ad641c9f  f  2019-01-01 07:07:32.042         -1    f        13   \n",
       "\n",
       "       gc_id gc_label     creation_date_global       id_group  ...  \\\n",
       "0         40        B  2019-03-13 07:03:13.632  b6a3d931cbbaf  ...   \n",
       "1         40        B  2018-12-18 18:28:41.942  1b35749232404  ...   \n",
       "2         20        D  2018-01-17 13:12:05.124  8f7612ff2c9cc  ...   \n",
       "3         40        B  2018-11-07 13:21:33.877  2e3620e03b5f3  ...   \n",
       "4        100        H  2018-10-16 10:17:01.716  ac19c1e8abd0d  ...   \n",
       "...      ...      ...                      ...            ...  ...   \n",
       "24995     10        A  2019-02-08 15:55:22.838  95a56d824dd8e  ...   \n",
       "24996     10        A  2018-12-18 11:07:20.750  0a862475e1701  ...   \n",
       "24997     10        A  2019-02-27 11:22:12.462  02d8284246fca  ...   \n",
       "24998     20        D  2018-08-09 08:23:06.305  68fb52f788708  ...   \n",
       "24999     20        D  2018-10-31 07:58:50.240  74cf9d7a70893  ...   \n",
       "\n",
       "      fruit_situation_label fruits_or_vegetables  number_of_fruit  \\\n",
       "0                       jzy                    t                1   \n",
       "1                      hetz                    t                1   \n",
       "2                        ag                  NaN               -1   \n",
       "3                        ag                  NaN                2   \n",
       "4                      hetz                    f                2   \n",
       "...                     ...                  ...              ...   \n",
       "24995                    ag                    f                0   \n",
       "24996                    ag                    f               -1   \n",
       "24997                    ae                  NaN               -1   \n",
       "24998                    ag                  NaN               -1   \n",
       "24999                    ag                    f                0   \n",
       "\n",
       "          id_group_3    creation_date_request     hobby     id_group_4  \\\n",
       "0      bc3a12cac647f  2019-03-13 07:00:52.562  football  b78bd3c9f945c   \n",
       "1      79aa2c96bd0fc  2019-01-07 13:45:55.741  football  6fed1653be26d   \n",
       "2      4b634a698cc8e  2019-01-25 14:01:07.041  football  fb7b5da2ef839   \n",
       "3      cccd30d947857  2019-01-16 14:35:11.432  football  3a230e52fb02e   \n",
       "4      62769fb7addda  2019-02-11 14:25:37.331  football  94c376f28ea60   \n",
       "...              ...                      ...       ...            ...   \n",
       "24995  62f3ff83bc692  2019-02-11 09:06:49.715  football  cfdfc4bae9d99   \n",
       "24996  cccd30d947857  2019-01-23 09:56:24.209  football  f3c523cde1292   \n",
       "24997  fa2eb9a81317a  2019-03-10 07:23:42.048  football  c2ac6810f81b5   \n",
       "24998  eefd8c1c28728  2019-02-27 16:28:57.107  football  aeaa1f918497c   \n",
       "24999  39fb2ab20dda9  2019-01-01 07:07:32.042  football  beb82cec9ed17   \n",
       "\n",
       "                ville green_vegetables vegetable_type  \n",
       "0           Saint-Leu                f            NaN  \n",
       "1             Créteil                f            NaN  \n",
       "2            Bordeaux                f            NaN  \n",
       "3      Saint-Herblain                f            NaN  \n",
       "4              Drancy                f            NaN  \n",
       "...               ...              ...            ...  \n",
       "24995             NaN                f            NaN  \n",
       "24996          Nantes                f            NaN  \n",
       "24997             NaN                f            NaN  \n",
       "24998             NaN                t          green  \n",
       "24999             NaN                f            NaN  \n",
       "\n",
       "[25000 rows x 23 columns]"
      ]
     },
     "execution_count": 4,
     "metadata": {},
     "output_type": "execute_result"
    }
   ],
   "source": [
    "test"
   ]
  },
  {
   "cell_type": "code",
   "execution_count": 5,
   "metadata": {},
   "outputs": [
    {
     "data": {
      "text/plain": [
       "id                       object\n",
       "AP                       object\n",
       "creation_date_answer     object\n",
       "situation                 int64\n",
       "ctc                      object\n",
       "location                  int64\n",
       "gc_id                     int64\n",
       "gc_label                 object\n",
       "creation_date_global     object\n",
       "id_group                 object\n",
       "id_group_2               object\n",
       "favorite_fruit           object\n",
       "fruit_situation_id        int64\n",
       "fruit_situation_label    object\n",
       "fruits_or_vegetables     object\n",
       "number_of_fruit           int64\n",
       "id_group_3               object\n",
       "creation_date_request    object\n",
       "hobby                    object\n",
       "id_group_4               object\n",
       "ville                    object\n",
       "green_vegetables         object\n",
       "vegetable_type           object\n",
       "target                    int64\n",
       "dtype: object"
      ]
     },
     "execution_count": 5,
     "metadata": {},
     "output_type": "execute_result"
    }
   ],
   "source": [
    "X.dtypes"
   ]
  },
  {
   "cell_type": "code",
   "execution_count": 6,
   "metadata": {},
   "outputs": [
    {
     "data": {
      "text/plain": [
       "id                           0\n",
       "AP                           0\n",
       "creation_date_answer         0\n",
       "situation                    0\n",
       "ctc                      15380\n",
       "location                     0\n",
       "gc_id                        0\n",
       "gc_label                     0\n",
       "creation_date_global         0\n",
       "id_group                     0\n",
       "id_group_2                   0\n",
       "favorite_fruit               0\n",
       "fruit_situation_id           0\n",
       "fruit_situation_label     1728\n",
       "fruits_or_vegetables     17341\n",
       "number_of_fruit              0\n",
       "id_group_3                   0\n",
       "creation_date_request        0\n",
       "hobby                        0\n",
       "id_group_4                   0\n",
       "ville                    16912\n",
       "green_vegetables             0\n",
       "vegetable_type           24586\n",
       "target                       0\n",
       "dtype: int64"
      ]
     },
     "execution_count": 6,
     "metadata": {},
     "output_type": "execute_result"
    }
   ],
   "source": [
    "X.isna().sum()"
   ]
  },
  {
   "cell_type": "code",
   "execution_count": 7,
   "metadata": {
    "scrolled": false
   },
   "outputs": [
    {
     "name": "stdout",
     "output_type": "stream",
     "text": [
      "id 25000\n",
      "AP 2\n",
      "creation_date_answer 24278\n",
      "situation 8\n",
      "ctc 3\n",
      "location 99\n",
      "gc_id 12\n",
      "gc_label 12\n",
      "creation_date_global 15680\n",
      "id_group 15844\n",
      "id_group_2 15675\n",
      "favorite_fruit 2\n",
      "fruit_situation_id 22\n",
      "fruit_situation_label 22\n",
      "fruits_or_vegetables 3\n",
      "number_of_fruit 9\n",
      "id_group_3 872\n",
      "creation_date_request 24280\n",
      "hobby 3\n",
      "id_group_4 15831\n",
      "ville 565\n",
      "green_vegetables 2\n",
      "vegetable_type 7\n",
      "target 4\n"
     ]
    }
   ],
   "source": [
    "for column in X:\n",
    "    print(column, len(X[column].unique()))"
   ]
  },
  {
   "cell_type": "code",
   "execution_count": 8,
   "metadata": {},
   "outputs": [
    {
     "name": "stdout",
     "output_type": "stream",
     "text": [
      "id 25000\n",
      "AP 2\n",
      "creation_date_answer 24278\n",
      "situation 8\n",
      "ctc 3\n",
      "location 99\n",
      "gc_id 12\n",
      "gc_label 12\n",
      "creation_date_global 15680\n",
      "id_group 15844\n",
      "id_group_2 15675\n",
      "favorite_fruit 2\n",
      "fruit_situation_id 22\n",
      "fruit_situation_label 22\n",
      "fruits_or_vegetables 3\n",
      "number_of_fruit 9\n",
      "id_group_3 872\n",
      "creation_date_request 24280\n",
      "hobby 3\n",
      "id_group_4 15831\n",
      "ville 565\n",
      "green_vegetables 2\n",
      "vegetable_type 7\n"
     ]
    }
   ],
   "source": [
    "for column in test:\n",
    "    print(column, len(X[column].unique()))"
   ]
  },
  {
   "cell_type": "markdown",
   "metadata": {},
   "source": [
    "All variables are categorical. It does not make sense to use linear models as this will require us to one-hot encode every feature. We should try tree-based methods instead."
   ]
  },
  {
   "cell_type": "markdown",
   "metadata": {},
   "source": [
    "## Looking at columns to keep"
   ]
  },
  {
   "cell_type": "code",
   "execution_count": 9,
   "metadata": {},
   "outputs": [
    {
     "data": {
      "text/plain": [
       "id                       0.00000\n",
       "AP                       0.00000\n",
       "creation_date_answer     0.00000\n",
       "situation                0.00000\n",
       "ctc                      0.61520\n",
       "location                 0.00000\n",
       "gc_id                    0.00000\n",
       "gc_label                 0.00000\n",
       "creation_date_global     0.00000\n",
       "id_group                 0.00000\n",
       "id_group_2               0.00000\n",
       "favorite_fruit           0.00000\n",
       "fruit_situation_id       0.00000\n",
       "fruit_situation_label    0.06912\n",
       "fruits_or_vegetables     0.69364\n",
       "number_of_fruit          0.00000\n",
       "id_group_3               0.00000\n",
       "creation_date_request    0.00000\n",
       "hobby                    0.00000\n",
       "id_group_4               0.00000\n",
       "ville                    0.67648\n",
       "green_vegetables         0.00000\n",
       "vegetable_type           0.98344\n",
       "target                   0.00000\n",
       "dtype: float64"
      ]
     },
     "execution_count": 9,
     "metadata": {},
     "output_type": "execute_result"
    }
   ],
   "source": [
    "X.isna().mean()"
   ]
  },
  {
   "cell_type": "code",
   "execution_count": 10,
   "metadata": {},
   "outputs": [
    {
     "data": {
      "text/plain": [
       "id                       0.00000\n",
       "AP                       0.00000\n",
       "creation_date_answer     0.00000\n",
       "situation                0.00000\n",
       "ctc                      0.60588\n",
       "location                 0.00000\n",
       "gc_id                    0.00000\n",
       "gc_label                 0.00000\n",
       "creation_date_global     0.00000\n",
       "id_group                 0.00000\n",
       "id_group_2               0.00000\n",
       "favorite_fruit           0.00000\n",
       "fruit_situation_id       0.00000\n",
       "fruit_situation_label    0.06908\n",
       "fruits_or_vegetables     0.69064\n",
       "number_of_fruit          0.00000\n",
       "id_group_3               0.00000\n",
       "creation_date_request    0.00000\n",
       "hobby                    0.00000\n",
       "id_group_4               0.00000\n",
       "ville                    0.66736\n",
       "green_vegetables         0.00000\n",
       "vegetable_type           0.98204\n",
       "dtype: float64"
      ]
     },
     "execution_count": 10,
     "metadata": {},
     "output_type": "execute_result"
    }
   ],
   "source": [
    "test.isna().mean()"
   ]
  },
  {
   "cell_type": "code",
   "execution_count": 11,
   "metadata": {},
   "outputs": [
    {
     "name": "stdout",
     "output_type": "stream",
     "text": [
      "id_group 0.4289937106918239\n",
      "id_group_2 0.43799707323280523\n",
      "id_group_3 0.9382284382284383\n",
      "id_group_4 0.42896708000251776\n"
     ]
    }
   ],
   "source": [
    "id_cols = ['id_group', 'id_group_2', 'id_group_3', 'id_group_4']\n",
    "\n",
    "for id_col in id_cols:\n",
    "    count = 0\n",
    "    X_uniques = list( X[id_col].unique())\n",
    "    test_uniques = list(test[id_col].unique())\n",
    "\n",
    "    for id_group in test_uniques:\n",
    "        if id_group in X_uniques:\n",
    "            count += 1\n",
    "    print(id_col, count / len(test[id_col].unique()))\n"
   ]
  },
  {
   "cell_type": "markdown",
   "metadata": {},
   "source": [
    "These id columns have a lot of values in common. We should keep the values in common and encode the others as NA."
   ]
  },
  {
   "cell_type": "code",
   "execution_count": 12,
   "metadata": {
    "scrolled": true
   },
   "outputs": [
    {
     "name": "stdout",
     "output_type": "stream",
     "text": [
      "creation_date_answer 0.023295196398331337\n",
      "creation_date_global 0.43559882906961944\n",
      "creation_date_request 0.02308867869976457\n"
     ]
    }
   ],
   "source": [
    "id_cols = ['creation_date_answer', 'creation_date_global', 'creation_date_request']\n",
    "\n",
    "for id_col in id_cols:\n",
    "    count = 0\n",
    "    X_uniques = list(X[id_col].unique())\n",
    "    test_uniques = list(test[id_col].unique())\n",
    "\n",
    "    for id_group in test_uniques:\n",
    "        if id_group in X_uniques:\n",
    "            count += 1\n",
    "    print(id_col, count / len(test[id_col].unique()))\n"
   ]
  },
  {
   "cell_type": "markdown",
   "metadata": {},
   "source": [
    "We should keep creation_date_global and drop the other 2 columns."
   ]
  },
  {
   "cell_type": "code",
   "execution_count": 13,
   "metadata": {},
   "outputs": [
    {
     "name": "stdout",
     "output_type": "stream",
     "text": [
      "ville 0.7389705882352942\n"
     ]
    }
   ],
   "source": [
    "id_cols = ['ville']\n",
    "\n",
    "for id_col in id_cols:\n",
    "    count = 0\n",
    "    X_uniques = list( X[id_col].unique())\n",
    "    test_uniques = list(test[id_col].unique())\n",
    "\n",
    "    for id_group in test_uniques:\n",
    "        if id_group in X_uniques:\n",
    "            count += 1\n",
    "    print(id_col, count / len(test[id_col].unique()))\n"
   ]
  },
  {
   "cell_type": "markdown",
   "metadata": {},
   "source": [
    "There are a lot of cities in common. We should keep this column and encode the values that are only in train.csv as NA."
   ]
  },
  {
   "cell_type": "markdown",
   "metadata": {},
   "source": [
    "## Looking at columns to drop"
   ]
  },
  {
   "cell_type": "markdown",
   "metadata": {},
   "source": [
    "We should drop a column if the test and train datasets have no values in common. This means that this column will have no predictive power."
   ]
  },
  {
   "cell_type": "code",
   "execution_count": 14,
   "metadata": {},
   "outputs": [
    {
     "name": "stdout",
     "output_type": "stream",
     "text": [
      "AP 1.0\n",
      "creation_date_answer 0.023295196398331337\n",
      "situation 1.0\n",
      "ctc 1.0\n",
      "location 0.98989898989899\n",
      "gc_id 1.0\n",
      "gc_label 1.0\n",
      "creation_date_global 0.43559882906961944\n",
      "id_group 0.4289937106918239\n",
      "id_group_2 0.43799707323280523\n",
      "favorite_fruit 1.0\n",
      "fruit_situation_id 1.0\n",
      "fruit_situation_label 1.0\n",
      "fruits_or_vegetables 1.0\n",
      "number_of_fruit 0.9\n",
      "id_group_3 0.9382284382284383\n",
      "creation_date_request 0.02308867869976457\n",
      "hobby 1.0\n",
      "id_group_4 0.42896708000251776\n",
      "ville 0.7389705882352942\n",
      "green_vegetables 1.0\n",
      "vegetable_type 1.0\n"
     ]
    }
   ],
   "source": [
    "id_cols = list(X.drop(['id', 'target'], axis = 1).columns)\n",
    "\n",
    "for id_col in id_cols:\n",
    "    count = 0\n",
    "    X_uniques = list(X[id_col].unique())\n",
    "    test_uniques = list(test[id_col].unique())\n",
    "\n",
    "    for id_group in test_uniques:\n",
    "        if id_group in X_uniques:\n",
    "            count += 1\n",
    "    print(id_col, count / len(test[id_col].unique()))"
   ]
  },
  {
   "cell_type": "markdown",
   "metadata": {},
   "source": [
    "> Columns to drop : \n",
    "> * creation_date_request\n",
    "> * creation_date_answer \n"
   ]
  },
  {
   "cell_type": "markdown",
   "metadata": {},
   "source": [
    "## Processing columns"
   ]
  },
  {
   "cell_type": "code",
   "execution_count": 15,
   "metadata": {},
   "outputs": [
    {
     "name": "stdout",
     "output_type": "stream",
     "text": [
      "location done\n",
      "creation_date_global done\n",
      "id_group done\n",
      "id_group_2 done\n",
      "id_group_3 done\n",
      "id_group_4 done\n",
      "number_of_fruit done\n",
      "ville done\n"
     ]
    }
   ],
   "source": [
    "X_pruned = X.drop(['creation_date_answer', 'creation_date_request', 'target'], axis = 1)\n",
    "test_pruned = test.drop(['creation_date_answer', 'creation_date_request'], axis = 1)\n",
    "\n",
    "columns_to_process = ['location', 'creation_date_global', 'id_group', 'id_group_2',\n",
    "                      'id_group_3','id_group_4', 'number_of_fruit', 'ville']\n",
    "\n",
    "def remove_uncommon(column):\n",
    "    \"\"\"Removes values from the test database that are not in the train database from both databases.\"\"\"\n",
    "    X_uniques = list(X[column].unique())\n",
    "    test_uniques = list(test[column].unique())\n",
    "    X_keys = {key: 0 for key in X_uniques}\n",
    "    uncommon_values = []\n",
    "    for value in test_uniques:\n",
    "        try:\n",
    "            X_keys[value]\n",
    "        except:\n",
    "            uncommon_values.append(value)\n",
    "        \n",
    "    test_pruned.loc[test_pruned[column].isin(uncommon_values), column] = 'nan'\n",
    "        \n",
    "\n",
    "for column in columns_to_process:\n",
    "    remove_uncommon(column)\n",
    "    print(column, \"done\")\n",
    "    "
   ]
  },
  {
   "cell_type": "markdown",
   "metadata": {},
   "source": [
    "## Categorical Encoding"
   ]
  },
  {
   "cell_type": "markdown",
   "metadata": {},
   "source": [
    "When using tree based models, scaling and one-hot encoding is not necessary. We just need to encode the variables to pass them to a tree-based model."
   ]
  },
  {
   "cell_type": "code",
   "execution_count": null,
   "metadata": {},
   "outputs": [],
   "source": [
    "# !pip install category_encoders"
   ]
  },
  {
   "cell_type": "code",
   "execution_count": 16,
   "metadata": {},
   "outputs": [],
   "source": [
    "import category_encoders as ce"
   ]
  },
  {
   "cell_type": "code",
   "execution_count": 17,
   "metadata": {},
   "outputs": [],
   "source": [
    "columns_to_encode = list(X_pruned.drop('id', axis = 1).columns)\n",
    "\n",
    "oe_encoder = ce.OrdinalEncoder(cols = columns_to_encode)\n",
    "\n",
    "X_encoded = oe_encoder.fit_transform(X_pruned)\n",
    "test_encoded = oe_encoder.transform(test_pruned)"
   ]
  },
  {
   "cell_type": "markdown",
   "metadata": {},
   "source": [
    "## Database split"
   ]
  },
  {
   "cell_type": "code",
   "execution_count": 25,
   "metadata": {},
   "outputs": [],
   "source": [
    "from sklearn.model_selection import train_test_split\n",
    "\n",
    "y = X[['id', 'target']]\n",
    "\n",
    "X_train, X_test, y_train, y_test = train_test_split(X_encoded.drop('id', axis = 1), y.drop('id', axis = 1), test_size = 0.2)"
   ]
  },
  {
   "cell_type": "markdown",
   "metadata": {},
   "source": [
    "## Custom Scorer"
   ]
  },
  {
   "cell_type": "code",
   "execution_count": 26,
   "metadata": {},
   "outputs": [],
   "source": [
    "def my_scorer(y_true, pred):\n",
    "    \"\"\"\n",
    "    This scorer penalizes errors for rare classes.\n",
    "\n",
    "    y_true and pred should be numpy arrays of shape (n, 4)\n",
    "    \"\"\"\n",
    "    \n",
    "    categories = np.array([0, 1, 2, 3])\n",
    "    weights = 10**categories\n",
    "    loss = - (y_true * np.log(pred)) - ((1 - y_true) * np.log(1 - pred))\n",
    "    score = (loss * weights).sum(axis = 1)\n",
    "    return score.mean()"
   ]
  },
  {
   "cell_type": "markdown",
   "metadata": {},
   "source": [
    "## Resampling"
   ]
  },
  {
   "cell_type": "code",
   "execution_count": 27,
   "metadata": {},
   "outputs": [],
   "source": [
    "y_train_dummies = pd.get_dummies(y_train['target']).to_numpy()"
   ]
  },
  {
   "cell_type": "code",
   "execution_count": 28,
   "metadata": {},
   "outputs": [],
   "source": [
    "X_new = X_train.copy()\n",
    "X_new['y'] = y_train['target']\n",
    "\n",
    "X_0 = X_new[X_new['y'] == 0].copy()\n",
    "X_1 = X_new[X_new['y'] == 1].copy()\n",
    "X_2 = X_new[X_new['y'] == 2].copy()\n",
    "X_3 = X_new[X_new['y'] == 3].copy()"
   ]
  },
  {
   "cell_type": "code",
   "execution_count": 29,
   "metadata": {
    "scrolled": true
   },
   "outputs": [
    {
     "name": "stdout",
     "output_type": "stream",
     "text": [
      "[0.25 0.25 0.25 0.25]\n"
     ]
    }
   ],
   "source": [
    "from sklearn.utils import resample\n",
    "\n",
    "resampled_X_1 = resample(X_1, n_samples = X_0.shape[0])\n",
    "resampled_X_2 = resample(X_2, n_samples = X_0.shape[0])\n",
    "resampled_X_3 = resample(X_3, n_samples = X_0.shape[0])\n",
    "\n",
    "resampled_X_train = pd.concat([X_0, resampled_X_1, resampled_X_2, resampled_X_3])\n",
    "resampled_y_train = pd.concat([X_0['y'], resampled_X_1['y'], resampled_X_2['y'], resampled_X_3['y']])\n",
    "\n",
    "print(pd.get_dummies(resampled_X_train['y']).to_numpy().mean(axis = 0))\n",
    "resampled_X_train = resampled_X_train.drop('y', axis = 1)"
   ]
  },
  {
   "cell_type": "markdown",
   "metadata": {},
   "source": [
    "## Hyperparameter Tuning of Boosting Tree"
   ]
  },
  {
   "cell_type": "code",
   "execution_count": 30,
   "metadata": {},
   "outputs": [],
   "source": [
    "# !pip install lightgbm\n",
    "# !pip install optuna"
   ]
  },
  {
   "cell_type": "code",
   "execution_count": 31,
   "metadata": {},
   "outputs": [],
   "source": [
    "import matplotlib.pyplot as plt\n",
    "import lightgbm as lgb\n",
    "import time\n",
    "import optuna"
   ]
  },
  {
   "cell_type": "markdown",
   "metadata": {},
   "source": [
    "This procedure optimizes our custom loss with bayesian optimization (trial and error)."
   ]
  },
  {
   "cell_type": "code",
   "execution_count": 41,
   "metadata": {},
   "outputs": [
    {
     "name": "stdout",
     "output_type": "stream",
     "text": [
      "10\n",
      "129.14787125587463\n",
      "{'max_depth': 337, 'learning_rate': 0.058962475829051716, 'n_iter': 375, 'max_leaves': 488, 'min_data_in_leaf': 829, 'num_boost_round': 881}\n",
      "83.07206252267397\n"
     ]
    }
   ],
   "source": [
    "t = time.time()\n",
    "trial_count = 0\n",
    "def objective(trial):\n",
    "    max_depth = trial.suggest_int('max_depth', 10, 500)\n",
    "    learning_rate = trial.suggest_loguniform('learning_rate', 10**-3, 10**0)\n",
    "    n_iter = trial.suggest_int('n_iter', 1, 500)\n",
    "    max_leaves = trial.suggest_int('max_leaves', 1, 500)\n",
    "    min_data_in_leaf = trial.suggest_int('min_data_in_leaf', 1, 1000)\n",
    "    num_boost_round = trial.suggest_int('num_boost_round', 1, 1000)\n",
    "    \n",
    "    params = {'learning_rate': learning_rate,\n",
    "              'max_depth': max_depth,\n",
    "              'max_leaves' : max_leaves,\n",
    "              'n_iter' : n_iter,\n",
    "              'min_data_in_leaf ' : min_data_in_leaf,\n",
    "              'boosting': 'gbdt',\n",
    "              'objective': 'multiclass',\n",
    "              'num_class' : 4}\n",
    "    \n",
    "    model = lgb.train(params, train_set=lgb.Dataset(resampled_X_train, label=resampled_y_train), num_boost_round=num_boost_round)\n",
    "\n",
    "    pred = model.predict(X_test)\n",
    "    y_true = pd.get_dummies(y_test['target']).to_numpy()\n",
    "    \n",
    "    global trial_count\n",
    "    trial_count += 1\n",
    "    if trial_count % 10 == 0:\n",
    "        print(trial_count)\n",
    "    \n",
    "    return my_scorer(y_true, pred)\n",
    "\n",
    "study = optuna.create_study(direction='minimize')\n",
    "optuna.logging.disable_default_handler()  # limit verbosity\n",
    "study.optimize(objective, n_trials=200)\n",
    "\n",
    "# Show best result\n",
    "print(time.time() - t)\n",
    "print(study.best_trial.params)\n",
    "print(study.best_trial.value)"
   ]
  },
  {
   "cell_type": "code",
   "execution_count": 42,
   "metadata": {},
   "outputs": [
    {
     "data": {
      "text/plain": [
       "[<matplotlib.lines.Line2D at 0x1c7d9a93fd0>]"
      ]
     },
     "execution_count": 42,
     "metadata": {},
     "output_type": "execute_result"
    },
    {
     "data": {
      "image/png": "[encoded data removed]",
      "text/plain": [
       "<Figure size 432x288 with 1 Axes>"
      ]
     },
     "metadata": {
      "needs_background": "light"
     },
     "output_type": "display_data"
    }
   ],
   "source": [
    "values = [t.value for t in study.trials]\n",
    "plt.plot(values)"
   ]
  },
  {
   "cell_type": "markdown",
   "metadata": {},
   "source": [
    "## Submission"
   ]
  },
  {
   "cell_type": "code",
   "execution_count": 87,
   "metadata": {},
   "outputs": [],
   "source": [
    "X_new = X_encoded.drop('id', axis = 1).copy()\n",
    "X_new['y'] = y['target']\n",
    "\n",
    "X_0 = X_new[X_new['y'] == 0].copy()\n",
    "X_1 = X_new[X_new['y'] == 1].copy()\n",
    "X_2 = X_new[X_new['y'] == 2].copy()\n",
    "X_3 = X_new[X_new['y'] == 3].copy()\n",
    "\n",
    "resampled_X_1 = resample(X_1, n_samples = X_0.shape[0])\n",
    "resampled_X_2 = resample(X_2, n_samples = X_0.shape[0])\n",
    "resampled_X_3 = resample(X_3, n_samples = X_0.shape[0])\n",
    "\n",
    "resampled_X = pd.concat([X_0.drop('y', axis = 1), resampled_X_1.drop('y', axis = 1), resampled_X_2.drop('y', axis = 1), resampled_X_3.drop('y', axis = 1)])\n",
    "resampled_y = pd.concat([X_0['y'], resampled_X_1['y'], resampled_X_2['y'], resampled_X_3['y']])\n"
   ]
  },
  {
   "cell_type": "code",
   "execution_count": 88,
   "metadata": {},
   "outputs": [],
   "source": [
    "params = {'learning_rate': study.best_params['learning_rate'],\n",
    "          'max_depth': study.best_params['max_depth'],\n",
    "          'max_leaves' : study.best_params['max_leaves'],\n",
    "          'n_iter' : study.best_params['n_iter'],\n",
    "          'min_data_in_leaf ' : study.best_params['min_data_in_leaf'],\n",
    "          'boosting': 'gbdt',\n",
    "          'objective': 'multiclass',\n",
    "          'num_class' : 4}\n",
    "    \n",
    "model = lgb.train(params, train_set=lgb.Dataset(resampled_X, label=resampled_y), num_boost_round=study.best_params['num_boost_round'])\n"
   ]
  },
  {
   "cell_type": "code",
   "execution_count": 95,
   "metadata": {},
   "outputs": [],
   "source": [
    "test_ids = test_encoded['id']\n",
    "\n",
    "test_pred = model.predict(test_encoded.drop('id', axis = 1))"
   ]
  },
  {
   "cell_type": "code",
   "execution_count": 96,
   "metadata": {},
   "outputs": [],
   "source": [
    "submission = pd.DataFrame(test_pred, columns = ['0', '1', '2', '3'])"
   ]
  },
  {
   "cell_type": "code",
   "execution_count": 97,
   "metadata": {},
   "outputs": [],
   "source": [
    "submission['id'] = test_ids"
   ]
  },
  {
   "cell_type": "code",
   "execution_count": 98,
   "metadata": {},
   "outputs": [],
   "source": [
    "submission.to_csv('test_y.csv', columns = ['id', '0', '1', '2', '3'], sep = ',', index = True)"
   ]
  },
  {
   "cell_type": "markdown",
   "metadata": {},
   "source": [
    "## Checking our model's prediction make sense"
   ]
  },
  {
   "cell_type": "code",
   "execution_count": 101,
   "metadata": {},
   "outputs": [
    {
     "data": {
      "text/plain": [
       "0    12155\n",
       "1     9020\n",
       "2     3682\n",
       "3      143\n",
       "dtype: int64"
      ]
     },
     "execution_count": 101,
     "metadata": {},
     "output_type": "execute_result"
    }
   ],
   "source": [
    "pd.get_dummies(test_pred.argmax( axis = 1)).sum()"
   ]
  }
 ],
 "metadata": {
  "hide_input": false,
  "kernelspec": {
   "display_name": "Python 3",
   "language": "python",
   "name": "python3"
  },
  "language_info": {
   "codemirror_mode": {
    "name": "ipython",
    "version": 3
   },
   "file_extension": ".py",
   "mimetype": "text/x-python",
   "name": "python",
   "nbconvert_exporter": "python",
   "pygments_lexer": "ipython3",
   "version": "3.7.2"
  }
 },
 "nbformat": 4,
 "nbformat_minor": 2
}
